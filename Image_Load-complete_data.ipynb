{
 "cells": [
  {
   "cell_type": "code",
   "execution_count": 1,
   "metadata": {},
   "outputs": [],
   "source": [
    "import tensorflow as tf\n",
    "import numpy as np\n",
    "import matplotlib.pyplot as plt\n",
    "%matplotlib inline"
   ]
  },
  {
   "cell_type": "code",
   "execution_count": 2,
   "metadata": {},
   "outputs": [
    {
     "name": "stdout",
     "output_type": "stream",
     "text": [
      "['raw_190625_20X_50K_0001.npy', 'raw_190627_20X_50K_0001.npy', 'raw_190625_20X_25K_0001.npy']\n"
     ]
    }
   ],
   "source": [
    "\n",
    "\n",
    "onlyfiles = [f for f in listdir(mypath) if isfile(join(mypath, f))]\n",
    "\n",
    "print(onlyfiles)\n"
   ]
  },
  {
   "cell_type": "code",
   "execution_count": 8,
   "metadata": {},
   "outputs": [],
   "source": [
    "def reshape_img(fl):\n",
    "    fl_ = np.zeros((256,256,fl.shape[0]))\n",
    "    for c in range(fl.shape[0]):\n",
    "        fl_[:,:,c] = fl[c,:,:]\n",
    "    return fl_\n",
    "\n",
    "def clean_br(img):\n",
    "    img = img - img.min()\n",
    "    img = img/img.max()\n",
    "    return img\n",
    "\n",
    "def clean_fl(img):\n",
    "    img = reshape_img(img)\n",
    "    img_ = np.zeros_like(img)\n",
    "    print(img.shape)\n",
    "    print(img_.shape)\n",
    "    for c in range(img.shape[-1]):\n",
    "        img_[:,:,c] = img[:,:,c] - img[:,:,c].min()\n",
    "        img_[:,:,c] = img_[:,:,c]/img_[:,:,c].max()\n",
    "    return img_"
   ]
  },
  {
   "cell_type": "code",
   "execution_count": 9,
   "metadata": {},
   "outputs": [
    {
     "name": "stdout",
     "output_type": "stream",
     "text": [
      "(3, 4, 256, 256)\n",
      "(3, 4, 256, 256)\n",
      "(3, 4, 256, 256)\n"
     ]
    }
   ],
   "source": [
    "for i in range(len(onlyfiles)):\n",
    "    data = np.load(mypath+onlyfiles[i])\n",
    "    print(data[0].shape)"
   ]
  },
  {
   "cell_type": "code",
   "execution_count": null,
   "metadata": {},
   "outputs": [],
   "source": [
    "tf.test.is_gpu_available()"
   ]
  },
  {
   "cell_type": "code",
   "execution_count": null,
   "metadata": {},
   "outputs": [],
   "source": []
  }
 ],
 "metadata": {
  "kernelspec": {
   "display_name": "Python 3",
   "language": "python",
   "name": "python3"
  },
  "language_info": {
   "codemirror_mode": {
    "name": "ipython",
    "version": 3
   },
   "file_extension": ".py",
   "mimetype": "text/x-python",
   "name": "python",
   "nbconvert_exporter": "python",
   "pygments_lexer": "ipython3",
   "version": "3.7.5"
  }
 },
 "nbformat": 4,
 "nbformat_minor": 1
}
